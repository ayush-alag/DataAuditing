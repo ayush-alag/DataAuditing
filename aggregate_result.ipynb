{
 "cells": [
  {
   "cell_type": "code",
   "execution_count": 1,
   "metadata": {},
   "outputs": [],
   "source": [
    "import pandas as pd\n",
    "import numpy as np\n",
    "from scipy.stats import ks_2samp, ttest_ind"
   ]
  },
  {
   "cell_type": "code",
   "execution_count": 2,
   "metadata": {},
   "outputs": [
    {
     "name": "stdout",
     "output_type": "stream",
     "text": [
      "/home/aalag/anaconda3/bin/python\r\n"
     ]
    }
   ],
   "source": [
    "!which python"
   ]
  },
  {
   "cell_type": "code",
   "execution_count": 2,
   "metadata": {},
   "outputs": [
    {
     "name": "stdout",
     "output_type": "stream",
     "text": [
      "Collecting ipykernel\n",
      "  Using cached https://files.pythonhosted.org/packages/e9/ad/9101e0ab5e84dd117462bb3a1379d31728a849b6886458452e3d97dc6bba/ipykernel-5.5.6-py3-none-any.whl\n",
      "Collecting jupyter-client (from ipykernel)\n",
      "  Using cached https://files.pythonhosted.org/packages/56/a7/f4d3790ce7bb925d3ffe299244501a264f23ee7ec401914f7d788881ea31/jupyter_client-7.1.2-py3-none-any.whl\n",
      "Collecting ipython-genutils (from ipykernel)\n",
      "  Using cached https://files.pythonhosted.org/packages/fa/bc/9bd3b5c2b4774d5f33b2d544f1460be9df7df2fe42f352135381c347c69a/ipython_genutils-0.2.0-py2.py3-none-any.whl\n",
      "Collecting ipython>=5.0.0 (from ipykernel)\n",
      "  Using cached https://files.pythonhosted.org/packages/53/09/958a4802489d28b2484114ee6414c7502ef57de6f2dbc9095b718640060c/ipython-7.16.3-py3-none-any.whl\n",
      "Collecting traitlets>=4.1.0 (from ipykernel)\n",
      "  Using cached https://files.pythonhosted.org/packages/ca/ab/872a23e29cec3cf2594af7e857f18b687ad21039c1f9b922fac5b9b142d5/traitlets-4.3.3-py2.py3-none-any.whl\n",
      "Collecting tornado>=4.2 (from ipykernel)\n",
      "  Using cached https://files.pythonhosted.org/packages/01/d1/8750ad20cbcefb499bb8b405e243f83c2c89f78d139e6f8c8d800640f554/tornado-6.1-cp36-cp36m-manylinux1_x86_64.whl\n",
      "Requirement already satisfied: python-dateutil>=2.1 in /usr/lib/python3.6/site-packages (from jupyter-client->ipykernel)\n",
      "Collecting pyzmq>=13 (from jupyter-client->ipykernel)\n",
      "  Using cached https://files.pythonhosted.org/packages/6c/33/d68be963793bced811ed51903eacb719ed40387d31bf2dd7abf409390107/pyzmq-24.0.1-cp36-cp36m-manylinux_2_5_x86_64.manylinux1_x86_64.whl\n",
      "Collecting nest-asyncio>=1.5 (from jupyter-client->ipykernel)\n",
      "  Using cached https://files.pythonhosted.org/packages/e9/1a/6dd9ec31cfdb34cef8fea0055b593ee779a6f63c8e8038ad90d71b7f53c0/nest_asyncio-1.5.6-py3-none-any.whl\n",
      "Collecting jupyter-core>=4.6.0 (from jupyter-client->ipykernel)\n",
      "  Using cached https://files.pythonhosted.org/packages/60/7d/bee50351fe3ff6979e949b9c4c00c556a7a9732ba39b547d07d93450de23/jupyter_core-4.9.2-py3-none-any.whl\n",
      "Collecting entrypoints (from jupyter-client->ipykernel)\n",
      "  Using cached https://files.pythonhosted.org/packages/35/a8/365059bbcd4572cbc41de17fd5b682be5868b218c3c5479071865cab9078/entrypoints-0.4-py3-none-any.whl\n",
      "Collecting prompt-toolkit!=3.0.0,!=3.0.1,<3.1.0,>=2.0.0 (from ipython>=5.0.0->ipykernel)\n",
      "  Using cached https://files.pythonhosted.org/packages/03/22/784990e865d847384c28a05ff33ed09791251b320c212f957c62a11bd2ab/prompt_toolkit-3.0.32-py3-none-any.whl\n",
      "Collecting pexpect; sys_platform != \"win32\" (from ipython>=5.0.0->ipykernel)\n",
      "  Using cached https://files.pythonhosted.org/packages/39/7b/88dbb785881c28a102619d46423cb853b46dbccc70d3ac362d99773a78ce/pexpect-4.8.0-py2.py3-none-any.whl\n",
      "Collecting pygments (from ipython>=5.0.0->ipykernel)\n",
      "  Using cached https://files.pythonhosted.org/packages/4f/82/672cd382e5b39ab1cd422a672382f08a1fb3d08d9e0c0f3707f33a52063b/Pygments-2.13.0-py3-none-any.whl\n",
      "Collecting pickleshare (from ipython>=5.0.0->ipykernel)\n",
      "  Using cached https://files.pythonhosted.org/packages/9a/41/220f49aaea88bc6fa6cba8d05ecf24676326156c23b991e80b3f2fc24c77/pickleshare-0.7.5-py2.py3-none-any.whl\n",
      "Collecting jedi<=0.17.2,>=0.10 (from ipython>=5.0.0->ipykernel)\n",
      "  Using cached https://files.pythonhosted.org/packages/c3/d4/36136b18daae06ad798966735f6c3fb96869c1be9f8245d2a8f556e40c36/jedi-0.17.2-py2.py3-none-any.whl\n",
      "Collecting backcall (from ipython>=5.0.0->ipykernel)\n",
      "  Using cached https://files.pythonhosted.org/packages/4c/1c/ff6546b6c12603d8dd1070aa3c3d273ad4c07f5771689a7b69a550e8c951/backcall-0.2.0-py2.py3-none-any.whl\n",
      "Requirement already satisfied: setuptools>=18.5 in /usr/lib/python3.6/site-packages (from ipython>=5.0.0->ipykernel)\n",
      "Requirement already satisfied: decorator in /usr/lib/python3.6/site-packages (from ipython>=5.0.0->ipykernel)\n",
      "Requirement already satisfied: six in /usr/lib/python3.6/site-packages (from traitlets>=4.1.0->ipykernel)\n",
      "Requirement already satisfied: wcwidth in /usr/lib/python3.6/site-packages (from prompt-toolkit!=3.0.0,!=3.0.1,<3.1.0,>=2.0.0->ipython>=5.0.0->ipykernel)\n",
      "Collecting ptyprocess>=0.5 (from pexpect; sys_platform != \"win32\"->ipython>=5.0.0->ipykernel)\n",
      "  Using cached https://files.pythonhosted.org/packages/22/a6/858897256d0deac81a172289110f31629fc4cee19b6f01283303e18c8db3/ptyprocess-0.7.0-py2.py3-none-any.whl\n",
      "Collecting parso<0.8.0,>=0.7.0 (from jedi<=0.17.2,>=0.10->ipython>=5.0.0->ipykernel)\n",
      "  Using cached https://files.pythonhosted.org/packages/93/d1/e635bdde32890db5aeb2ffbde17e74f68986305a4466b0aa373b861e3f00/parso-0.7.1-py2.py3-none-any.whl\n",
      "Installing collected packages: ipython-genutils, traitlets, pyzmq, nest-asyncio, jupyter-core, tornado, entrypoints, jupyter-client, prompt-toolkit, ptyprocess, pexpect, pygments, pickleshare, parso, jedi, backcall, ipython, ipykernel\n",
      "\u001b[31mException:\n",
      "Traceback (most recent call last):\n",
      "  File \"/usr/lib/python3.6/site-packages/pip/basecommand.py\", line 215, in main\n",
      "    status = self.run(options, args)\n",
      "  File \"/usr/lib/python3.6/site-packages/pip/commands/install.py\", line 365, in run\n",
      "    strip_file_prefix=options.strip_file_prefix,\n",
      "  File \"/usr/lib/python3.6/site-packages/pip/req/req_set.py\", line 789, in install\n",
      "    **kwargs\n",
      "  File \"/usr/lib/python3.6/site-packages/pip/req/req_install.py\", line 854, in install\n",
      "    strip_file_prefix=strip_file_prefix\n",
      "  File \"/usr/lib/python3.6/site-packages/pip/req/req_install.py\", line 1069, in move_wheel_files\n",
      "    strip_file_prefix=strip_file_prefix,\n",
      "  File \"/usr/lib/python3.6/site-packages/pip/wheel.py\", line 345, in move_wheel_files\n",
      "    clobber(source, lib_dir, True)\n",
      "  File \"/usr/lib/python3.6/site-packages/pip/wheel.py\", line 287, in clobber\n",
      "    ensure_dir(dest)  # common for the 'include' path\n",
      "  File \"/usr/lib/python3.6/site-packages/pip/utils/__init__.py\", line 83, in ensure_dir\n",
      "    os.makedirs(path)\n",
      "  File \"/usr/lib64/python3.6/os.py\", line 210, in makedirs\n",
      "    makedirs(head, mode, exist_ok)\n",
      "  File \"/usr/lib64/python3.6/os.py\", line 220, in makedirs\n",
      "    mkdir(name, mode)\n",
      "PermissionError: [Errno 13] Permission denied: '/usr/local/lib/python3.6'\u001b[0m\n"
     ]
    }
   ],
   "source": [
    "!pip3 install ipykernel"
   ]
  },
  {
   "cell_type": "code",
   "execution_count": 3,
   "metadata": {},
   "outputs": [],
   "source": [
    "def get_member_ratio(datadf, metrics, thre_cnt=1, skip=[], mode='ks'):\n",
    "    sample2mem = []\n",
    "    for idx, row in datadf.iterrows():\n",
    "        sample2mem.append(np.sum([row[m] for m in (set(metrics) - set(skip))]))\n",
    "    \n",
    "    members_bool = np.asarray(sample2mem) >= thre_cnt\n",
    "\n",
    "    if mode == 'ks': # ks distance\n",
    "        _, pvalue = ks_2samp(members_bool,[1 for i in range(10000)] , mode='asymp')\n",
    "    elif mode == 't': # majority\n",
    "        if members_bool.mean() == 1:\n",
    "            return 1, 1\n",
    "        else:\n",
    "            _, pvalue = ttest_ind(members_bool,[1 for i in range(len(members_bool))], equal_var = True, nan_policy='raise')\n",
    "    elif mode == 'max':\n",
    "        if max(members_bool) == 1:\n",
    "            return 1, 1\n",
    "        else:\n",
    "            _, pvalue = ttest_ind(members_bool,[1 for i in range(len(members_bool))], equal_var = True, nan_policy='raise')\n",
    "    elif mode == 'majority':\n",
    "        if members_bool.sum() > members_bool.size // 2:\n",
    "            return 1, 1\n",
    "        else:\n",
    "            _, pvalue = ttest_ind(members_bool,[1 for i in range(len(members_bool))], equal_var = True, nan_policy='raise')\n",
    "         \n",
    "\n",
    "    return np.sum(members_bool) / len(datadf), pvalue"
   ]
  },
  {
   "cell_type": "code",
   "execution_count": 7,
   "metadata": {},
   "outputs": [
    {
     "name": "stdout",
     "output_type": "stream",
     "text": [
      "/della/scratch/gpfs/aalag/DataAuditingThesis\r\n"
     ]
    }
   ],
   "source": [
    "!pwd"
   ]
  },
  {
   "cell_type": "code",
   "execution_count": 6,
   "metadata": {},
   "outputs": [
    {
     "name": "stdout",
     "output_type": "stream",
     "text": [
      "['correctness']\n",
      "t\n",
      "-----  Query_size:200 \t Cal data:MNIST  -----\n"
     ]
    },
    {
     "ename": "FileNotFoundError",
     "evalue": "[Errno 2] File b'./saves_new/dropout0.1/EMA_MNIST/query_set/binarized_caldata=MNIST_epoch=50_k=10_calsize=10000_fold0.csv' does not exist: b'./saves_new/dropout0.1/EMA_MNIST/query_set/binarized_caldata=MNIST_epoch=50_k=10_calsize=10000_fold0.csv'",
     "output_type": "error",
     "traceback": [
      "\u001b[0;31m---------------------------------------------------------------------------\u001b[0m",
      "\u001b[0;31mFileNotFoundError\u001b[0m                         Traceback (most recent call last)",
      "\u001b[0;32m<ipython-input-6-ed8d2ecd7a16>\u001b[0m in \u001b[0;36m<module>\u001b[0;34m\u001b[0m\n\u001b[1;32m     31\u001b[0m                     \u001b[0mlogname\u001b[0m \u001b[0;34m=\u001b[0m \u001b[0;34mf'caldata={caldata}_epoch={epoch}_k={k}_calsize=10000'\u001b[0m\u001b[0;34m\u001b[0m\u001b[0;34m\u001b[0m\u001b[0m\n\u001b[1;32m     32\u001b[0m                     \u001b[0;32mfor\u001b[0m \u001b[0mfold\u001b[0m \u001b[0;32min\u001b[0m \u001b[0mrange\u001b[0m\u001b[0;34m(\u001b[0m\u001b[0;36m7\u001b[0m\u001b[0;34m)\u001b[0m\u001b[0;34m:\u001b[0m\u001b[0;34m\u001b[0m\u001b[0;34m\u001b[0m\u001b[0m\n\u001b[0;32m---> 33\u001b[0;31m                         \u001b[0mqueryset\u001b[0m \u001b[0;34m=\u001b[0m \u001b[0mpd\u001b[0m\u001b[0;34m.\u001b[0m\u001b[0mread_csv\u001b[0m\u001b[0;34m(\u001b[0m\u001b[0;34mf'./saves_new/{expt}/EMA_{querydata}/query_set/binarized_{logname}_fold{fold}.csv'\u001b[0m\u001b[0;34m)\u001b[0m\u001b[0;34m\u001b[0m\u001b[0;34m\u001b[0m\u001b[0m\n\u001b[0m\u001b[1;32m     34\u001b[0m                         \u001b[0;32mif\u001b[0m \u001b[0mfold\u001b[0m \u001b[0;34m==\u001b[0m \u001b[0;36m0\u001b[0m \u001b[0;32mor\u001b[0m \u001b[0mfold\u001b[0m \u001b[0;34m==\u001b[0m \u001b[0;36m6\u001b[0m\u001b[0;34m:\u001b[0m\u001b[0;34m\u001b[0m\u001b[0;34m\u001b[0m\u001b[0m\n\u001b[1;32m     35\u001b[0m                             \u001b[0mground_truth\u001b[0m \u001b[0;34m=\u001b[0m \u001b[0;34m'Query is not in base'\u001b[0m\u001b[0;34m\u001b[0m\u001b[0;34m\u001b[0m\u001b[0m\n",
      "\u001b[0;32m~/anaconda3/lib/python3.7/site-packages/pandas/io/parsers.py\u001b[0m in \u001b[0;36mparser_f\u001b[0;34m(filepath_or_buffer, sep, delimiter, header, names, index_col, usecols, squeeze, prefix, mangle_dupe_cols, dtype, engine, converters, true_values, false_values, skipinitialspace, skiprows, skipfooter, nrows, na_values, keep_default_na, na_filter, verbose, skip_blank_lines, parse_dates, infer_datetime_format, keep_date_col, date_parser, dayfirst, iterator, chunksize, compression, thousands, decimal, lineterminator, quotechar, quoting, doublequote, escapechar, comment, encoding, dialect, tupleize_cols, error_bad_lines, warn_bad_lines, delim_whitespace, low_memory, memory_map, float_precision)\u001b[0m\n\u001b[1;32m    700\u001b[0m                     skip_blank_lines=skip_blank_lines)\n\u001b[1;32m    701\u001b[0m \u001b[0;34m\u001b[0m\u001b[0m\n\u001b[0;32m--> 702\u001b[0;31m         \u001b[0;32mreturn\u001b[0m \u001b[0m_read\u001b[0m\u001b[0;34m(\u001b[0m\u001b[0mfilepath_or_buffer\u001b[0m\u001b[0;34m,\u001b[0m \u001b[0mkwds\u001b[0m\u001b[0;34m)\u001b[0m\u001b[0;34m\u001b[0m\u001b[0;34m\u001b[0m\u001b[0m\n\u001b[0m\u001b[1;32m    703\u001b[0m \u001b[0;34m\u001b[0m\u001b[0m\n\u001b[1;32m    704\u001b[0m     \u001b[0mparser_f\u001b[0m\u001b[0;34m.\u001b[0m\u001b[0m__name__\u001b[0m \u001b[0;34m=\u001b[0m \u001b[0mname\u001b[0m\u001b[0;34m\u001b[0m\u001b[0;34m\u001b[0m\u001b[0m\n",
      "\u001b[0;32m~/anaconda3/lib/python3.7/site-packages/pandas/io/parsers.py\u001b[0m in \u001b[0;36m_read\u001b[0;34m(filepath_or_buffer, kwds)\u001b[0m\n\u001b[1;32m    427\u001b[0m \u001b[0;34m\u001b[0m\u001b[0m\n\u001b[1;32m    428\u001b[0m     \u001b[0;31m# Create the parser.\u001b[0m\u001b[0;34m\u001b[0m\u001b[0;34m\u001b[0m\u001b[0;34m\u001b[0m\u001b[0m\n\u001b[0;32m--> 429\u001b[0;31m     \u001b[0mparser\u001b[0m \u001b[0;34m=\u001b[0m \u001b[0mTextFileReader\u001b[0m\u001b[0;34m(\u001b[0m\u001b[0mfilepath_or_buffer\u001b[0m\u001b[0;34m,\u001b[0m \u001b[0;34m**\u001b[0m\u001b[0mkwds\u001b[0m\u001b[0;34m)\u001b[0m\u001b[0;34m\u001b[0m\u001b[0;34m\u001b[0m\u001b[0m\n\u001b[0m\u001b[1;32m    430\u001b[0m \u001b[0;34m\u001b[0m\u001b[0m\n\u001b[1;32m    431\u001b[0m     \u001b[0;32mif\u001b[0m \u001b[0mchunksize\u001b[0m \u001b[0;32mor\u001b[0m \u001b[0miterator\u001b[0m\u001b[0;34m:\u001b[0m\u001b[0;34m\u001b[0m\u001b[0;34m\u001b[0m\u001b[0m\n",
      "\u001b[0;32m~/anaconda3/lib/python3.7/site-packages/pandas/io/parsers.py\u001b[0m in \u001b[0;36m__init__\u001b[0;34m(self, f, engine, **kwds)\u001b[0m\n\u001b[1;32m    893\u001b[0m             \u001b[0mself\u001b[0m\u001b[0;34m.\u001b[0m\u001b[0moptions\u001b[0m\u001b[0;34m[\u001b[0m\u001b[0;34m'has_index_names'\u001b[0m\u001b[0;34m]\u001b[0m \u001b[0;34m=\u001b[0m \u001b[0mkwds\u001b[0m\u001b[0;34m[\u001b[0m\u001b[0;34m'has_index_names'\u001b[0m\u001b[0;34m]\u001b[0m\u001b[0;34m\u001b[0m\u001b[0;34m\u001b[0m\u001b[0m\n\u001b[1;32m    894\u001b[0m \u001b[0;34m\u001b[0m\u001b[0m\n\u001b[0;32m--> 895\u001b[0;31m         \u001b[0mself\u001b[0m\u001b[0;34m.\u001b[0m\u001b[0m_make_engine\u001b[0m\u001b[0;34m(\u001b[0m\u001b[0mself\u001b[0m\u001b[0;34m.\u001b[0m\u001b[0mengine\u001b[0m\u001b[0;34m)\u001b[0m\u001b[0;34m\u001b[0m\u001b[0;34m\u001b[0m\u001b[0m\n\u001b[0m\u001b[1;32m    896\u001b[0m \u001b[0;34m\u001b[0m\u001b[0m\n\u001b[1;32m    897\u001b[0m     \u001b[0;32mdef\u001b[0m \u001b[0mclose\u001b[0m\u001b[0;34m(\u001b[0m\u001b[0mself\u001b[0m\u001b[0;34m)\u001b[0m\u001b[0;34m:\u001b[0m\u001b[0;34m\u001b[0m\u001b[0;34m\u001b[0m\u001b[0m\n",
      "\u001b[0;32m~/anaconda3/lib/python3.7/site-packages/pandas/io/parsers.py\u001b[0m in \u001b[0;36m_make_engine\u001b[0;34m(self, engine)\u001b[0m\n\u001b[1;32m   1120\u001b[0m     \u001b[0;32mdef\u001b[0m \u001b[0m_make_engine\u001b[0m\u001b[0;34m(\u001b[0m\u001b[0mself\u001b[0m\u001b[0;34m,\u001b[0m \u001b[0mengine\u001b[0m\u001b[0;34m=\u001b[0m\u001b[0;34m'c'\u001b[0m\u001b[0;34m)\u001b[0m\u001b[0;34m:\u001b[0m\u001b[0;34m\u001b[0m\u001b[0;34m\u001b[0m\u001b[0m\n\u001b[1;32m   1121\u001b[0m         \u001b[0;32mif\u001b[0m \u001b[0mengine\u001b[0m \u001b[0;34m==\u001b[0m \u001b[0;34m'c'\u001b[0m\u001b[0;34m:\u001b[0m\u001b[0;34m\u001b[0m\u001b[0;34m\u001b[0m\u001b[0m\n\u001b[0;32m-> 1122\u001b[0;31m             \u001b[0mself\u001b[0m\u001b[0;34m.\u001b[0m\u001b[0m_engine\u001b[0m \u001b[0;34m=\u001b[0m \u001b[0mCParserWrapper\u001b[0m\u001b[0;34m(\u001b[0m\u001b[0mself\u001b[0m\u001b[0;34m.\u001b[0m\u001b[0mf\u001b[0m\u001b[0;34m,\u001b[0m \u001b[0;34m**\u001b[0m\u001b[0mself\u001b[0m\u001b[0;34m.\u001b[0m\u001b[0moptions\u001b[0m\u001b[0;34m)\u001b[0m\u001b[0;34m\u001b[0m\u001b[0;34m\u001b[0m\u001b[0m\n\u001b[0m\u001b[1;32m   1123\u001b[0m         \u001b[0;32melse\u001b[0m\u001b[0;34m:\u001b[0m\u001b[0;34m\u001b[0m\u001b[0;34m\u001b[0m\u001b[0m\n\u001b[1;32m   1124\u001b[0m             \u001b[0;32mif\u001b[0m \u001b[0mengine\u001b[0m \u001b[0;34m==\u001b[0m \u001b[0;34m'python'\u001b[0m\u001b[0;34m:\u001b[0m\u001b[0;34m\u001b[0m\u001b[0;34m\u001b[0m\u001b[0m\n",
      "\u001b[0;32m~/anaconda3/lib/python3.7/site-packages/pandas/io/parsers.py\u001b[0m in \u001b[0;36m__init__\u001b[0;34m(self, src, **kwds)\u001b[0m\n\u001b[1;32m   1851\u001b[0m         \u001b[0mkwds\u001b[0m\u001b[0;34m[\u001b[0m\u001b[0;34m'usecols'\u001b[0m\u001b[0;34m]\u001b[0m \u001b[0;34m=\u001b[0m \u001b[0mself\u001b[0m\u001b[0;34m.\u001b[0m\u001b[0musecols\u001b[0m\u001b[0;34m\u001b[0m\u001b[0;34m\u001b[0m\u001b[0m\n\u001b[1;32m   1852\u001b[0m \u001b[0;34m\u001b[0m\u001b[0m\n\u001b[0;32m-> 1853\u001b[0;31m         \u001b[0mself\u001b[0m\u001b[0;34m.\u001b[0m\u001b[0m_reader\u001b[0m \u001b[0;34m=\u001b[0m \u001b[0mparsers\u001b[0m\u001b[0;34m.\u001b[0m\u001b[0mTextReader\u001b[0m\u001b[0;34m(\u001b[0m\u001b[0msrc\u001b[0m\u001b[0;34m,\u001b[0m \u001b[0;34m**\u001b[0m\u001b[0mkwds\u001b[0m\u001b[0;34m)\u001b[0m\u001b[0;34m\u001b[0m\u001b[0;34m\u001b[0m\u001b[0m\n\u001b[0m\u001b[1;32m   1854\u001b[0m         \u001b[0mself\u001b[0m\u001b[0;34m.\u001b[0m\u001b[0munnamed_cols\u001b[0m \u001b[0;34m=\u001b[0m \u001b[0mself\u001b[0m\u001b[0;34m.\u001b[0m\u001b[0m_reader\u001b[0m\u001b[0;34m.\u001b[0m\u001b[0munnamed_cols\u001b[0m\u001b[0;34m\u001b[0m\u001b[0;34m\u001b[0m\u001b[0m\n\u001b[1;32m   1855\u001b[0m \u001b[0;34m\u001b[0m\u001b[0m\n",
      "\u001b[0;32mpandas/_libs/parsers.pyx\u001b[0m in \u001b[0;36mpandas._libs.parsers.TextReader.__cinit__\u001b[0;34m()\u001b[0m\n",
      "\u001b[0;32mpandas/_libs/parsers.pyx\u001b[0m in \u001b[0;36mpandas._libs.parsers.TextReader._setup_parser_source\u001b[0;34m()\u001b[0m\n",
      "\u001b[0;31mFileNotFoundError\u001b[0m: [Errno 2] File b'./saves_new/dropout0.1/EMA_MNIST/query_set/binarized_caldata=MNIST_epoch=50_k=10_calsize=10000_fold0.csv' does not exist: b'./saves_new/dropout0.1/EMA_MNIST/query_set/binarized_caldata=MNIST_epoch=50_k=10_calsize=10000_fold0.csv'"
     ]
    }
   ],
   "source": [
    "### Run EMA on the benchmark datasets, Table 2.b and Table 6\n",
    "querydata = 'MNIST'\n",
    "expt = \"dropout0.1\"\n",
    "# expt=\"\"\n",
    "epoch = 50\n",
    "\n",
    "# metric_main = ['correctness', 'confidence', 'entropy', 'modified entropy', 'scaled logits']\n",
    "# metric_one = ['correctness', 'confidence']\n",
    "# metric_two = ['correctness', 'entropy']\n",
    "# metric_three = ['correctness', 'modified entropy']\n",
    "# metric_four = ['correctness', 'scaled logits']\n",
    "\n",
    "# all_metrics = [metric_main, metric_one, metric_two, metric_three, metric_four]\n",
    "\n",
    "metrics = ['correctness']\n",
    "all_metrics = [metrics]\n",
    "\n",
    "klist = [0, 10, 20, 30, 40, 50]\n",
    "mixup = False\n",
    "\n",
    "EMA_res_table = pd.DataFrame(columns=['M1', 'M2', 'M3', 'M4', 'M5', 'M6', 'SVHN'], index=[f'k={100-k}' for k in klist])\n",
    "for caldata in ['MNIST']:\n",
    "    # for size in [2000, 500, 200, 50, 20, 5]:\n",
    "    for metrics in all_metrics:\n",
    "        print(metrics)\n",
    "        for size in [200]:\n",
    "            for mode in ['t']:\n",
    "                print(mode)\n",
    "                print(f'-----  Query_size:{size} \\t Cal data:{caldata}  -----')\n",
    "                for k in klist:\n",
    "                    logname = f'caldata={caldata}_epoch={epoch}_k={k}_calsize=10000'\n",
    "                    for fold in range(7):\n",
    "                        queryset = pd.read_csv(f'./saves_new/{expt}/EMA_{querydata}/query_set/binarized_{logname}_fold{fold}.csv')  \n",
    "                        if fold == 0 or fold == 6:\n",
    "                            ground_truth = 'Query is not in base'\n",
    "                        else:\n",
    "                            ground_truth = 'Query is in base'\n",
    "                        t, pv = get_member_ratio(queryset[:size], metrics, mode=mode)\n",
    "\n",
    "                        EMA_res = np.around(pv, decimals=2)\n",
    "                        if fold == 0:\n",
    "                            EMA_res_table['SVHN'][f'k={100-k}'] = EMA_res\n",
    "                        else:\n",
    "                            EMA_res_table[f'M{fold}'][f'k={100-k}'] = EMA_res\n",
    "\n",
    "                print(EMA_res_table, '\\n')\n",
    "                EMA_res_table = pd.DataFrame(columns=['M1', 'M2', 'M3', 'M4', 'M5', 'M6', 'SVHN'], index=[f'k={100-k}' for k in klist])"
   ]
  },
  {
   "cell_type": "code",
   "execution_count": 4,
   "metadata": {},
   "outputs": [
    {
     "name": "stdout",
     "output_type": "stream",
     "text": [
      "-----  Query_size:800 \t Cal data:COVIDx  -----\n",
      "Using t-test\n",
      "      C1 C2 C3 C4 C5   C6  CXR\n",
      "k=100  1  1  1  1  1  0.0  0.0\n",
      "k=90   1  1  1  1  1  0.0  0.0\n",
      "k=80   1  1  1  1  1  0.0  0.0\n",
      "k=70   1  1  1  1  1  0.0  0.0\n",
      "k=60   1  1  1  1  1  0.0  0.0\n",
      "k=50   1  1  1  1  1  0.0  0.0 \n",
      "\n",
      "-----  Query_size:500 \t Cal data:COVIDx  -----\n",
      "Using t-test\n",
      "      C1 C2 C3 C4 C5   C6  CXR\n",
      "k=100  1  1  1  1  1  0.0  0.0\n",
      "k=90   1  1  1  1  1  0.0  0.0\n",
      "k=80   1  1  1  1  1  0.0  0.0\n",
      "k=70   1  1  1  1  1  0.0  0.0\n",
      "k=60   1  1  1  1  1  0.0  0.0\n",
      "k=50   1  1  1  1  1  0.0  0.0 \n",
      "\n",
      "-----  Query_size:200 \t Cal data:COVIDx  -----\n",
      "Using t-test\n",
      "      C1 C2 C3 C4 C5   C6  CXR\n",
      "k=100  1  1  1  1  1  0.0  0.0\n",
      "k=90   1  1  1  1  1  0.0  0.0\n",
      "k=80   1  1  1  1  1  0.0  0.0\n",
      "k=70   1  1  1  1  1  0.0  0.0\n",
      "k=60   1  1  1  1  1  0.0  0.0\n",
      "k=50   1  1  1  1  1  0.0  0.0 \n",
      "\n",
      "-----  Query_size:50 \t Cal data:COVIDx  -----\n",
      "Using t-test\n",
      "      C1 C2 C3 C4 C5    C6   CXR\n",
      "k=100  1  1  1  1  1  0.01  0.04\n",
      "k=90   1  1  1  1  1   0.0   0.0\n",
      "k=80   1  1  1  1  1  0.01   0.0\n",
      "k=70   1  1  1  1  1  0.01   0.0\n",
      "k=60   1  1  1  1  1  0.01   0.0\n",
      "k=50   1  1  1  1  1   0.0   0.0 \n",
      "\n",
      "-----  Query_size:20 \t Cal data:COVIDx  -----\n",
      "Using t-test\n",
      "      C1 C2 C3 C4 C5    C6   CXR\n",
      "k=100  1  1  1  1  1  0.15  0.07\n",
      "k=90   1  1  1  1  1  0.02  0.04\n",
      "k=80   1  1  1  1  1  0.07  0.01\n",
      "k=70   1  1  1  1  1  0.32  0.04\n",
      "k=60   1  1  1  1  1  0.04  0.04\n",
      "k=50   1  1  1  1  1  0.04  0.04 \n",
      "\n",
      "-----  Query_size:5 \t Cal data:COVIDx  -----\n",
      "Using t-test\n",
      "      C1 C2 C3 C4 C5    C6   CXR\n",
      "k=100  1  1  1  1  1     1     1\n",
      "k=90   1  1  1  1  1  0.35  0.14\n",
      "k=80   1  1  1  1  1     1  0.14\n",
      "k=70   1  1  1  1  1     1  0.35\n",
      "k=60   1  1  1  1  1  0.14     1\n",
      "k=50   1  1  1  1  1  0.14  0.35 \n",
      "\n"
     ]
    }
   ],
   "source": [
    "### Run EMA on chest X-ray datasets, Table 3.b and Table 7\n",
    "querydata = 'COVIDx'\n",
    "expt = \"l2\"\n",
    "epoch = 30\n",
    "\n",
    "EMA_res_table = pd.DataFrame(columns=['C1', 'C2', 'C3', 'C4', 'C5', 'C6', 'CXR'], index=[f'k={100-k}' for k in klist])\n",
    "for caldata in ['COVIDx']:\n",
    "    for size in [800, 500, 200, 50, 20, 5]:\n",
    "        print(f'-----  Query_size:{size} \\t Cal data:{caldata}  -----')\n",
    "        for mode in ['t']:\n",
    "            print(f'Using {mode}-test')\n",
    "            for k in klist:\n",
    "                logname = f'caldata={caldata}_epoch={epoch}_k={k}_calsize=4000'\n",
    "                for fold in range(7):\n",
    "                    queryset = pd.read_csv(f'./saves_new/{expt}/EMA_{querydata}/query_set/binarized_{logname}_fold{fold}.csv')  \n",
    "\n",
    "                    if fold == 0 or fold == 6:\n",
    "                        ground_truth = 'Query is not in base'\n",
    "                    else:\n",
    "                        ground_truth = 'Query is in base'\n",
    "                    t, pv = get_member_ratio(queryset[:size], skip=['modified entropy'], mode=mode)\n",
    "\n",
    "                    EMA_res = np.around(pv, decimals=2)\n",
    "                    if fold == 0:\n",
    "                        EMA_res_table['CXR'][f'k={100-k}'] = EMA_res\n",
    "                    else:\n",
    "                        EMA_res_table[f'C{fold}'][f'k={100-k}'] = EMA_res\n",
    "\n",
    "            print(EMA_res_table, '\\n')\n",
    "            EMA_res_table = pd.DataFrame(columns=['C1', 'C2', 'C3', 'C4', 'C5', 'C6', 'CXR'], index=[f'k={100-k}' for k in klist])"
   ]
  }
 ],
 "metadata": {
  "kernelspec": {
   "display_name": "Python 3",
   "language": "python",
   "name": "python3"
  },
  "language_info": {
   "codemirror_mode": {
    "name": "ipython",
    "version": 3
   },
   "file_extension": ".py",
   "mimetype": "text/x-python",
   "name": "python",
   "nbconvert_exporter": "python",
   "pygments_lexer": "ipython3",
   "version": "3.7.3"
  },
  "vscode": {
   "interpreter": {
    "hash": "916dbcbb3f70747c44a77c7bcd40155683ae19c65e1c03b4aa3499c5328201f1"
   }
  }
 },
 "nbformat": 4,
 "nbformat_minor": 5
}
